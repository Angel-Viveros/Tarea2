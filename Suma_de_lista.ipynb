{
  "nbformat": 4,
  "nbformat_minor": 0,
  "metadata": {
    "colab": {
      "name": "Suma_de_lista.ipynb",
      "provenance": []
    },
    "kernelspec": {
      "name": "python3",
      "display_name": "Python 3"
    },
    "language_info": {
      "name": "python"
    }
  },
  "cells": [
    {
      "cell_type": "code",
      "metadata": {
        "colab": {
          "base_uri": "https://localhost:8080/"
        },
        "id": "vDZgQ-3KTu1v",
        "outputId": "4d318003-5514-408e-baf9-d6f42085c7e6"
      },
      "source": [
        "entlist = [10, 9, 8, 1, 3, 4 ]\n",
        "def sumar( entlist ):\n",
        "    if len( entlist ) == 0:\n",
        "        return 0 \n",
        "    else:\n",
        "        return entlist [0] + sumar (entlist[1:] )\n",
        "print(f'La suma de la lista de enteros es {(sumar(entlist))}')"
      ],
      "execution_count": 31,
      "outputs": [
        {
          "output_type": "stream",
          "name": "stdout",
          "text": [
            "La suma de la lista de enteros es 35\n"
          ]
        }
      ]
    },
    {
      "cell_type": "code",
      "metadata": {
        "id": "yQBFv977bJpG"
      },
      "source": [
        ""
      ],
      "execution_count": null,
      "outputs": []
    }
  ]
}